{
 "cells": [
  {
   "cell_type": "markdown",
   "id": "91078fc6",
   "metadata": {},
   "source": [
    "# Funções"
   ]
  },
  {
   "cell_type": "code",
   "execution_count": 1,
   "id": "1aa7477e",
   "metadata": {},
   "outputs": [],
   "source": [
    "def my_print(message = \"My default message\"): # Parametros default (padrão)\n",
    "    print(message)"
   ]
  },
  {
   "cell_type": "code",
   "execution_count": 2,
   "id": "aab1759c",
   "metadata": {},
   "outputs": [
    {
     "name": "stdout",
     "output_type": "stream",
     "text": [
      "My default message\n",
      "Hello\n"
     ]
    }
   ],
   "source": [
    "my_print()\n",
    "my_print(\"Hello\")"
   ]
  },
  {
   "cell_type": "code",
   "execution_count": 3,
   "id": "da2477fa",
   "metadata": {},
   "outputs": [
    {
     "data": {
      "text/plain": [
       "8"
      ]
     },
     "execution_count": 3,
     "metadata": {},
     "output_type": "execute_result"
    }
   ],
   "source": [
    "# Lambdas funções anônimas que podem ser atribuidas a variáveis, embora não recomendado\n",
    "\n",
    "another_double = lambda x: 2 * x # não faça isso\n",
    "\n",
    "another_double(4)"
   ]
  },
  {
   "cell_type": "code",
   "execution_count": 4,
   "id": "3e5bbf53",
   "metadata": {},
   "outputs": [
    {
     "data": {
      "text/plain": [
       "8"
      ]
     },
     "execution_count": 4,
     "metadata": {},
     "output_type": "execute_result"
    }
   ],
   "source": [
    "# faça isso\n",
    "\n",
    "def another_double (x):\n",
    "    return 2 * x\n",
    "another_double(4)"
   ]
  },
  {
   "cell_type": "markdown",
   "id": "2116f7cf",
   "metadata": {},
   "source": [
    "# Strings"
   ]
  },
  {
   "cell_type": "code",
   "execution_count": 5,
   "id": "bf2bde7c",
   "metadata": {},
   "outputs": [],
   "source": [
    "# Strings podem ser delimitadas por aspas simples ou duplas\n",
    "\n",
    "single = 'data science'\n",
    "double = \"data science\""
   ]
  },
  {
   "cell_type": "code",
   "execution_count": 6,
   "id": "c977c7c1",
   "metadata": {},
   "outputs": [
    {
     "data": {
      "text/plain": [
       "1"
      ]
     },
     "execution_count": 6,
     "metadata": {},
     "output_type": "execute_result"
    }
   ],
   "source": [
    "tab_string = \"\\t\" # tecla tab do teclado\n",
    "len(tab_string) "
   ]
  },
  {
   "cell_type": "code",
   "execution_count": 7,
   "id": "0ce7d81e",
   "metadata": {},
   "outputs": [
    {
     "data": {
      "text/plain": [
       "2"
      ]
     },
     "execution_count": 7,
     "metadata": {},
     "output_type": "execute_result"
    }
   ],
   "source": [
    "# Para usar esses caracteres na forma bruta\n",
    "\n",
    "not_tab_string = r\"\\t\"\n",
    "len(not_tab_string)"
   ]
  },
  {
   "cell_type": "code",
   "execution_count": 8,
   "id": "2ed33c9a",
   "metadata": {},
   "outputs": [
    {
     "name": "stdout",
     "output_type": "stream",
     "text": [
      "Primeira linha,\n",
      "segunda linha e \n",
      "terceira linha\n",
      "\n"
     ]
    }
   ],
   "source": [
    "# Criando strings de várias linhas\n",
    "multi_line_string = \"\"\"Primeira linha,\n",
    "segunda linha e \n",
    "terceira linha\n",
    "\"\"\"\n",
    "\n",
    "print(multi_line_string)"
   ]
  },
  {
   "cell_type": "code",
   "execution_count": 9,
   "id": "c1efb6f9",
   "metadata": {},
   "outputs": [
    {
     "data": {
      "text/plain": [
       "'Ola Hugo Mendes'"
      ]
     },
     "execution_count": 9,
     "metadata": {},
     "output_type": "execute_result"
    }
   ],
   "source": [
    "# f-string\n",
    "\n",
    "first_name = \"Hugo\"\n",
    "last_name = \"Mendes\"\n",
    "\n",
    "f\"Ola {first_name} {last_name}\""
   ]
  },
  {
   "cell_type": "markdown",
   "id": "a3bd5746",
   "metadata": {},
   "source": [
    "# Exceções"
   ]
  },
  {
   "cell_type": "code",
   "execution_count": 10,
   "id": "27aa3550",
   "metadata": {},
   "outputs": [
    {
     "name": "stdout",
     "output_type": "stream",
     "text": [
      "division by zero\n"
     ]
    }
   ],
   "source": [
    "try:\n",
    "    print(0/0)\n",
    "except Exception as er:\n",
    "    print(er)"
   ]
  },
  {
   "cell_type": "code",
   "execution_count": 11,
   "id": "ab66d1dc",
   "metadata": {},
   "outputs": [
    {
     "name": "stdout",
     "output_type": "stream",
     "text": [
      "4.0\n",
      "Deu certo\n",
      "Ok\n"
     ]
    }
   ],
   "source": [
    "try:\n",
    "    print(12/3)\n",
    "except Exception as er:\n",
    "    print(er)\n",
    "else:\n",
    "    print(\"Deu certo\")\n",
    "finally:\n",
    "    print(\"Ok\")"
   ]
  },
  {
   "cell_type": "code",
   "execution_count": 12,
   "id": "ec57a633",
   "metadata": {},
   "outputs": [],
   "source": [
    "# try tenta executar alguma ação\n",
    "# except executa uma ação caso o try falhe\n",
    "# else executa uma ação caso o try funcione\n",
    "# finally executa em todos os casos de falha ou sucesso"
   ]
  },
  {
   "cell_type": "markdown",
   "id": "33577796",
   "metadata": {},
   "source": [
    "# Listas"
   ]
  },
  {
   "cell_type": "code",
   "execution_count": 13,
   "id": "67f54417",
   "metadata": {},
   "outputs": [],
   "source": [
    "integer_list = [1,2,3]\n",
    "list_of_list = [\"Hugo\",integer_list, []]"
   ]
  },
  {
   "cell_type": "code",
   "execution_count": 14,
   "id": "8c922c7c",
   "metadata": {},
   "outputs": [
    {
     "data": {
      "text/plain": [
       "3"
      ]
     },
     "execution_count": 14,
     "metadata": {},
     "output_type": "execute_result"
    }
   ],
   "source": [
    "len(integer_list)"
   ]
  },
  {
   "cell_type": "code",
   "execution_count": 15,
   "id": "f2b1b99e",
   "metadata": {},
   "outputs": [
    {
     "data": {
      "text/plain": [
       "6"
      ]
     },
     "execution_count": 15,
     "metadata": {},
     "output_type": "execute_result"
    }
   ],
   "source": [
    "sum(integer_list)"
   ]
  },
  {
   "cell_type": "code",
   "execution_count": 16,
   "id": "b3a7be1c",
   "metadata": {},
   "outputs": [
    {
     "data": {
      "text/plain": [
       "(0, 1)"
      ]
     },
     "execution_count": 16,
     "metadata": {},
     "output_type": "execute_result"
    }
   ],
   "source": [
    "# indexação em python começa em 0\n",
    "\n",
    "x = [0,1,2,3,4,5,6,7,8,9]\n",
    "\n",
    "zero = x[0]\n",
    "one = x[1]\n",
    "\n",
    "zero, one"
   ]
  },
  {
   "cell_type": "code",
   "execution_count": 17,
   "id": "75ce1c56",
   "metadata": {},
   "outputs": [
    {
     "data": {
      "text/plain": [
       "(9, 8)"
      ]
     },
     "execution_count": 17,
     "metadata": {},
     "output_type": "execute_result"
    }
   ],
   "source": [
    "# pode usar indexação negativa para pegar elementos de trás pra frente\n",
    "\n",
    "nine = x[-1]\n",
    "eight = x[-2]\n",
    "\n",
    "nine, eight"
   ]
  },
  {
   "cell_type": "code",
   "execution_count": 18,
   "id": "d60355cd",
   "metadata": {},
   "outputs": [
    {
     "data": {
      "text/plain": [
       "[12, 1, 2, 3, 4, 5, 6, 7, 8, 9]"
      ]
     },
     "execution_count": 18,
     "metadata": {},
     "output_type": "execute_result"
    }
   ],
   "source": [
    "# atribuição de novo valor em um indice\n",
    "\n",
    "x[0] = 12\n",
    "x"
   ]
  },
  {
   "cell_type": "code",
   "execution_count": 19,
   "id": "54b3a626",
   "metadata": {},
   "outputs": [],
   "source": [
    "# fatiamento\n",
    "# [inclusivo:exclusivo]"
   ]
  },
  {
   "cell_type": "code",
   "execution_count": 20,
   "id": "323bc86a",
   "metadata": {},
   "outputs": [
    {
     "data": {
      "text/plain": [
       "[1, 2, 3, 4, 5, 6, 7, 8]"
      ]
     },
     "execution_count": 20,
     "metadata": {},
     "output_type": "execute_result"
    }
   ],
   "source": [
    "x[1:9]"
   ]
  },
  {
   "cell_type": "code",
   "execution_count": 21,
   "id": "036c88d1",
   "metadata": {},
   "outputs": [
    {
     "data": {
      "text/plain": [
       "[4, 5, 6]"
      ]
     },
     "execution_count": 21,
     "metadata": {},
     "output_type": "execute_result"
    }
   ],
   "source": [
    "x[4:-3]"
   ]
  },
  {
   "cell_type": "code",
   "execution_count": 22,
   "id": "af7420a3",
   "metadata": {},
   "outputs": [
    {
     "data": {
      "text/plain": [
       "[6, 7, 8, 9]"
      ]
     },
     "execution_count": 22,
     "metadata": {},
     "output_type": "execute_result"
    }
   ],
   "source": [
    "x[-4:]"
   ]
  },
  {
   "cell_type": "code",
   "execution_count": 23,
   "id": "b91426d2",
   "metadata": {},
   "outputs": [
    {
     "data": {
      "text/plain": [
       "[12, 1, 2, 3, 4, 5, 6, 7, 8, 9]"
      ]
     },
     "execution_count": 23,
     "metadata": {},
     "output_type": "execute_result"
    }
   ],
   "source": [
    "x[:]"
   ]
  },
  {
   "cell_type": "code",
   "execution_count": 24,
   "id": "2187841b",
   "metadata": {},
   "outputs": [
    {
     "data": {
      "text/plain": [
       "True"
      ]
     },
     "execution_count": 24,
     "metadata": {},
     "output_type": "execute_result"
    }
   ],
   "source": [
    "# operador in\n",
    "\n",
    "12 in x"
   ]
  },
  {
   "cell_type": "code",
   "execution_count": 25,
   "id": "54733c46",
   "metadata": {},
   "outputs": [
    {
     "data": {
      "text/plain": [
       "True"
      ]
     },
     "execution_count": 25,
     "metadata": {},
     "output_type": "execute_result"
    }
   ],
   "source": [
    "1 in [1,2,5,8]"
   ]
  },
  {
   "cell_type": "code",
   "execution_count": 26,
   "id": "fbef489b",
   "metadata": {},
   "outputs": [
    {
     "data": {
      "text/plain": [
       "False"
      ]
     },
     "execution_count": 26,
     "metadata": {},
     "output_type": "execute_result"
    }
   ],
   "source": [
    "0 in [1,2,5,8]"
   ]
  },
  {
   "cell_type": "code",
   "execution_count": 27,
   "id": "8b0fc66e",
   "metadata": {},
   "outputs": [
    {
     "data": {
      "text/plain": [
       "[12, 1, 2, 3, 4, 5, 6, 7, 8, 9, 13, 14, 15]"
      ]
     },
     "execution_count": 27,
     "metadata": {},
     "output_type": "execute_result"
    }
   ],
   "source": [
    "# extender listas\n",
    "x.extend([13,14,15])\n",
    "x"
   ]
  },
  {
   "cell_type": "code",
   "execution_count": 28,
   "id": "de34866b",
   "metadata": {},
   "outputs": [
    {
     "data": {
      "text/plain": [
       "[12, 1, 2, 3, 4, 5, 6, 7, 8, 9, 13, 14, 15, 16, 17, 18]"
      ]
     },
     "execution_count": 28,
     "metadata": {},
     "output_type": "execute_result"
    }
   ],
   "source": [
    "# se não quiser modificar x, apenas concatene\n",
    "\n",
    "y = x + [16,17,18]\n",
    "\n",
    "y"
   ]
  },
  {
   "cell_type": "code",
   "execution_count": 29,
   "id": "94c3d0dd",
   "metadata": {},
   "outputs": [
    {
     "data": {
      "text/plain": [
       "[12, 1, 2, 3, 4, 5, 6, 7, 8, 9, 13, 14, 15]"
      ]
     },
     "execution_count": 29,
     "metadata": {},
     "output_type": "execute_result"
    }
   ],
   "source": [
    "x # não mudou"
   ]
  },
  {
   "cell_type": "code",
   "execution_count": 30,
   "id": "87d4fa9f",
   "metadata": {},
   "outputs": [
    {
     "data": {
      "text/plain": [
       "[1, 2, 3, 0]"
      ]
     },
     "execution_count": 30,
     "metadata": {},
     "output_type": "execute_result"
    }
   ],
   "source": [
    "# adicionando novos elementos\n",
    "x = [1,2,3]\n",
    "x.append(0)\n",
    "x "
   ]
  },
  {
   "cell_type": "code",
   "execution_count": 31,
   "id": "b747a0cc",
   "metadata": {},
   "outputs": [
    {
     "data": {
      "text/plain": [
       "(1, 2)"
      ]
     },
     "execution_count": 31,
     "metadata": {},
     "output_type": "execute_result"
    }
   ],
   "source": [
    "# descompactando\n",
    "x, y = [1,2]\n",
    "x,y"
   ]
  },
  {
   "cell_type": "markdown",
   "id": "b8f63eed",
   "metadata": {},
   "source": [
    "# Tuplas"
   ]
  },
  {
   "cell_type": "code",
   "execution_count": 32,
   "id": "ab0535af",
   "metadata": {},
   "outputs": [
    {
     "data": {
      "text/plain": [
       "[1, 3]"
      ]
     },
     "execution_count": 32,
     "metadata": {},
     "output_type": "execute_result"
    }
   ],
   "source": [
    "# estrutura imutável\n",
    "my_list = [1,2]\n",
    "my_tuple = (1,2)\n",
    "my_list[1] = 3\n",
    "my_list"
   ]
  },
  {
   "cell_type": "code",
   "execution_count": 33,
   "id": "94b525f1",
   "metadata": {},
   "outputs": [
    {
     "name": "stdout",
     "output_type": "stream",
     "text": [
      "'tuple' object does not support item assignment\n"
     ]
    }
   ],
   "source": [
    "try:\n",
    "    my_tuple[1] = 3\n",
    "except Exception as er:\n",
    "    print(er)"
   ]
  },
  {
   "cell_type": "code",
   "execution_count": 34,
   "id": "e5e6fc44",
   "metadata": {},
   "outputs": [],
   "source": [
    "# eficazes para retornar multiplos valores em funções\n",
    "\n",
    "def sum_and_product (x,y):\n",
    "    return (x + y), (x * y)"
   ]
  },
  {
   "cell_type": "code",
   "execution_count": 35,
   "id": "2f6d0935",
   "metadata": {},
   "outputs": [
    {
     "data": {
      "text/plain": [
       "(7, 10)"
      ]
     },
     "execution_count": 35,
     "metadata": {},
     "output_type": "execute_result"
    }
   ],
   "source": [
    "sp = sum_and_product(2,5)\n",
    "sp"
   ]
  },
  {
   "cell_type": "code",
   "execution_count": 36,
   "id": "462e9764",
   "metadata": {},
   "outputs": [
    {
     "name": "stdout",
     "output_type": "stream",
     "text": [
      "7\n",
      "10\n"
     ]
    }
   ],
   "source": [
    "s,p = sum_and_product(2,5)\n",
    "print(s)\n",
    "print(p)"
   ]
  },
  {
   "cell_type": "code",
   "execution_count": 37,
   "id": "a83004f4",
   "metadata": {},
   "outputs": [
    {
     "name": "stdout",
     "output_type": "stream",
     "text": [
      "10\n",
      "7\n"
     ]
    }
   ],
   "source": [
    "# muito util em atribuições multiplas\n",
    "\n",
    "s,p = p,s\n",
    "print(s)\n",
    "print(p)"
   ]
  },
  {
   "cell_type": "markdown",
   "id": "41ec90a0",
   "metadata": {},
   "source": [
    "# Dicionários"
   ]
  },
  {
   "cell_type": "code",
   "execution_count": 38,
   "id": "cad6095f",
   "metadata": {},
   "outputs": [
    {
     "data": {
      "text/plain": [
       "{}"
      ]
     },
     "execution_count": 38,
     "metadata": {},
     "output_type": "execute_result"
    }
   ],
   "source": [
    "# dict são baseados em chave e valor\n",
    "\n",
    "empty_dict = {} # dict vazio\n",
    "\n",
    "empty_dict"
   ]
  },
  {
   "cell_type": "code",
   "execution_count": 39,
   "id": "e752c0d4",
   "metadata": {},
   "outputs": [
    {
     "data": {
      "text/plain": [
       "80"
      ]
     },
     "execution_count": 39,
     "metadata": {},
     "output_type": "execute_result"
    }
   ],
   "source": [
    "# pode fazer buscas pelas chaves\n",
    "\n",
    "grades = {\"Joel\":80, \"Tim\":95}\n",
    "grades[\"Joel\"]"
   ]
  },
  {
   "cell_type": "code",
   "execution_count": 40,
   "id": "d4074b81",
   "metadata": {},
   "outputs": [
    {
     "name": "stdout",
     "output_type": "stream",
     "text": [
      "Not exists this key\n"
     ]
    }
   ],
   "source": [
    "# tentando acessar chaves inexistentes\n",
    "\n",
    "try:\n",
    "    grades[\"Hugo\"]\n",
    "except KeyError:\n",
    "    print(\"Not exists this key\")"
   ]
  },
  {
   "cell_type": "code",
   "execution_count": 41,
   "id": "73d52ed9",
   "metadata": {},
   "outputs": [
    {
     "name": "stdout",
     "output_type": "stream",
     "text": [
      "True\n",
      "False\n"
     ]
    }
   ],
   "source": [
    "# verificando chaves com o operador in\n",
    "\n",
    "print(\"Joel\" in grades)\n",
    "print(\"Hugo\" in grades)"
   ]
  },
  {
   "cell_type": "code",
   "execution_count": 42,
   "id": "960a968e",
   "metadata": {},
   "outputs": [
    {
     "name": "stdout",
     "output_type": "stream",
     "text": [
      "80\n",
      "0\n",
      "None\n"
     ]
    }
   ],
   "source": [
    "# método get que busca uma chave\n",
    "\n",
    "print(grades.get(\"Joel\")) # achou? retorna o valor\n",
    "print(grades.get(\"Hugo\",0)) # pode colocar um parametro para ele retornar caso não ache\n",
    "print(grades.get(\"Hugo\")) # por padrão retorna None"
   ]
  },
  {
   "cell_type": "code",
   "execution_count": 43,
   "id": "aaff19e2",
   "metadata": {},
   "outputs": [
    {
     "data": {
      "text/plain": [
       "3"
      ]
     },
     "execution_count": 43,
     "metadata": {},
     "output_type": "execute_result"
    }
   ],
   "source": [
    "# atribuindo novas chave, valor\n",
    "\n",
    "grades[\"Hugo\"] = 105\n",
    "len(grades)"
   ]
  },
  {
   "cell_type": "code",
   "execution_count": 44,
   "id": "828f47eb",
   "metadata": {},
   "outputs": [],
   "source": [
    "# dict podem representar dados estruturados\n",
    "\n",
    "tweet = {\n",
    "    \"user\":\"Hugo\",\n",
    "    \"text\":\"Data Science is the future\",\n",
    "    \"retweet_count\": 100,\n",
    "    \"hashtags\":[\"#data\", \"#science\", \"#machine-learning\", \"#deep-learning\"]\n",
    "}"
   ]
  },
  {
   "cell_type": "code",
   "execution_count": 45,
   "id": "f53e2e2f",
   "metadata": {},
   "outputs": [
    {
     "name": "stdout",
     "output_type": "stream",
     "text": [
      "dict_keys(['user', 'text', 'retweet_count', 'hashtags'])\n",
      "dict_values(['Hugo', 'Data Science is the future', 100, ['#data', '#science', '#machine-learning', '#deep-learning']])\n",
      "dict_items([('user', 'Hugo'), ('text', 'Data Science is the future'), ('retweet_count', 100), ('hashtags', ['#data', '#science', '#machine-learning', '#deep-learning'])])\n"
     ]
    }
   ],
   "source": [
    "# podemos iterar sobre as chaves, valores ou (chaves, valores)\n",
    "\n",
    "print(tweet.keys()) # iterando nas chaves\n",
    "print(tweet.values()) # iterando nos valores\n",
    "print(tweet.items()) # iterando nas (chaves, valores)"
   ]
  },
  {
   "cell_type": "code",
   "execution_count": null,
   "id": "bdec4cd6",
   "metadata": {},
   "outputs": [],
   "source": []
  }
 ],
 "metadata": {
  "kernelspec": {
   "display_name": "Python 3 (ipykernel)",
   "language": "python",
   "name": "python3"
  },
  "language_info": {
   "codemirror_mode": {
    "name": "ipython",
    "version": 3
   },
   "file_extension": ".py",
   "mimetype": "text/x-python",
   "name": "python",
   "nbconvert_exporter": "python",
   "pygments_lexer": "ipython3",
   "version": "3.9.21"
  }
 },
 "nbformat": 4,
 "nbformat_minor": 5
}
